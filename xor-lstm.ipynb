{
 "metadata": {
  "language_info": {
   "codemirror_mode": {
    "name": "ipython",
    "version": 3
   },
   "file_extension": ".py",
   "mimetype": "text/x-python",
   "name": "python",
   "nbconvert_exporter": "python",
   "pygments_lexer": "ipython3",
   "version": "3.6.9-final"
  },
  "orig_nbformat": 2,
  "kernelspec": {
   "name": "python36964bitac32a00a0e544b1f920083e9c7d0ba71",
   "display_name": "Python 3.6.9 64-bit",
   "language": "python"
  }
 },
 "nbformat": 4,
 "nbformat_minor": 2,
 "cells": [
  {
   "cell_type": "code",
   "execution_count": 288,
   "metadata": {},
   "outputs": [],
   "source": [
    "import tensorflow as tf\n",
    "tf.enable_eager_execution()\n",
    "\n",
    "from tensorflow import keras\n",
    "import numpy as np\n"
   ]
  },
  {
   "cell_type": "code",
   "execution_count": 289,
   "metadata": {},
   "outputs": [
    {
     "output_type": "stream",
     "name": "stdout",
     "text": [
      "(100000, 50, 1) (100000, 1)\n"
     ]
    }
   ],
   "source": [
    "train_size = 100000\n",
    "epochs = 10\n",
    "batch_size = 64\n",
    "timestep = 50\n",
    "# train_data = np.random.randint(2, size=(train_size, timestep)).astype('float32')\n",
    "train_data = [np.random.randint(2, size=(np.random.randint(1,timestep+1))).astype('float32') for _ in range(train_size)]\n",
    "train_label = [i.sum()%2 for i in train_data]\n",
    "\n",
    "train_label = np.reshape(train_label, (train_size, 1))\n",
    "train_data = tf.keras.preprocessing.sequence.pad_sequences(train_data)\n",
    "train_data = np.reshape(train_data, (train_size, timestep, 1))\n",
    "\n",
    "print(train_data.shape, train_label.shape)\n",
    "# print(train_data[0])\n",
    "# print(train_label[0])"
   ]
  },
  {
   "cell_type": "code",
   "execution_count": 290,
   "metadata": {},
   "outputs": [
    {
     "output_type": "stream",
     "name": "stdout",
     "text": [
      "Model: \"sequential_46\"\n_________________________________________________________________\nLayer (type)                 Output Shape              Param #   \n=================================================================\nlstm_50 (LSTM)               (None, 1)                 12        \n_________________________________________________________________\ndense_60 (Dense)             (None, 1)                 2         \n=================================================================\nTotal params: 14\nTrainable params: 14\nNon-trainable params: 0\n_________________________________________________________________\n"
     ]
    }
   ],
   "source": [
    "model = tf.keras.Sequential([\n",
    "    keras.layers.LSTM(1, input_shape=(timestep, 1)),\n",
    "    keras.layers.Dense(1),\n",
    "])\n",
    "model.summary()\n",
    "\n",
    "model.compile(optimizer=keras.optimizers.Adam(learning_rate=1e-1),\n",
    "                loss=tf.keras.losses.BinaryCrossentropy(from_logits=True),\n",
    "                metrics=['accuracy'])"
   ]
  },
  {
   "cell_type": "code",
   "execution_count": 291,
   "metadata": {},
   "outputs": [
    {
     "output_type": "stream",
     "name": "stdout",
     "text": [
      "Train on 100000 samples\n",
      "Epoch 1/10\n",
      "100000/100000 [==============================] - 83s 834us/sample - loss: 0.0726 - acc: 0.9520\n",
      "Epoch 2/10\n",
      "100000/100000 [==============================] - 83s 828us/sample - loss: 2.4631e-04 - acc: 1.0000\n",
      "Epoch 3/10\n",
      "100000/100000 [==============================] - 83s 826us/sample - loss: 7.6140e-05 - acc: 1.0000\n",
      "Epoch 4/10\n",
      "100000/100000 [==============================] - 71s 712us/sample - loss: 3.0095e-05 - acc: 1.0000\n",
      "Epoch 5/10\n",
      "100000/100000 [==============================] - 62s 619us/sample - loss: 1.2939e-05 - acc: 1.0000\n",
      "Epoch 6/10\n",
      "100000/100000 [==============================] - 53s 526us/sample - loss: 5.7611e-06 - acc: 1.0000\n",
      "Epoch 7/10\n",
      "100000/100000 [==============================] - 45s 447us/sample - loss: 2.6034e-06 - acc: 1.0000\n",
      "Epoch 8/10\n",
      "100000/100000 [==============================] - 45s 446us/sample - loss: 1.1858e-06 - acc: 1.0000\n",
      "Epoch 9/10\n",
      "100000/100000 [==============================] - 45s 446us/sample - loss: 5.4399e-07 - acc: 1.0000\n",
      "Epoch 10/10\n",
      "100000/100000 [==============================] - 44s 444us/sample - loss: 2.5313e-07 - acc: 1.0000\n"
     ]
    },
    {
     "output_type": "execute_result",
     "data": {
      "text/plain": [
       "<tensorflow.python.keras.callbacks.History at 0x7fe453b7d320>"
      ]
     },
     "metadata": {},
     "execution_count": 291
    }
   ],
   "source": [
    "callback = tf.keras.callbacks.EarlyStopping(monitor='loss', patience=2)\r\n",
    "model.fit(train_data, train_label, epochs=epochs, batch_size=batch_size, callbacks=[callback])"
   ]
  },
  {
   "cell_type": "code",
   "execution_count": 325,
   "metadata": {},
   "outputs": [
    {
     "output_type": "stream",
     "name": "stdout",
     "text": [
      "(10, 50, 1) (10, 1)\n"
     ]
    }
   ],
   "source": [
    "test_size = 10\n",
    "\n",
    "test_data = [np.random.randint(2, size=(np.random.randint(1,timestep+1))).astype('float32') for _ in range(test_size)]\n",
    "test_label = [i.sum()%2 for i in test_data]\n",
    "\n",
    "test_label = np.reshape(test_label, (test_size, 1))\n",
    "test_data = tf.keras.preprocessing.sequence.pad_sequences(test_data, maxlen=timestep)\n",
    "test_data = np.reshape(test_data, (test_size, timestep, 1))\n",
    "\n",
    "print(test_data.shape, test_label.shape)\n"
   ]
  },
  {
   "cell_type": "code",
   "execution_count": 330,
   "metadata": {
    "tags": []
   },
   "outputs": [
    {
     "output_type": "stream",
     "name": "stdout",
     "text": [
      "{'loss': 2.082603032249608e-07, 'acc': 1.0}\n"
     ]
    }
   ],
   "source": [
    "result = model.evaluate(test_data, test_label, verbose=0)\r\n",
    "print(dict(zip(model.metrics_names, result)))"
   ]
  },
  {
   "cell_type": "code",
   "execution_count": null,
   "metadata": {},
   "outputs": [],
   "source": []
  }
 ]
}